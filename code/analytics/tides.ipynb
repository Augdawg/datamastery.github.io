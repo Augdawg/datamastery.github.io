{
 "cells": [
  {
   "cell_type": "code",
   "execution_count": 1,
   "metadata": {},
   "outputs": [
    {
     "data": {
      "text/html": [
       "<div>\n",
       "<style>\n",
       "    .dataframe thead tr:only-child th {\n",
       "        text-align: right;\n",
       "    }\n",
       "\n",
       "    .dataframe thead th {\n",
       "        text-align: left;\n",
       "    }\n",
       "\n",
       "    .dataframe tbody tr th {\n",
       "        vertical-align: top;\n",
       "    }\n",
       "</style>\n",
       "<table border=\"1\" class=\"dataframe\">\n",
       "  <thead>\n",
       "    <tr style=\"text-align: right;\">\n",
       "      <th></th>\n",
       "      <th>Date</th>\n",
       "      <th>Day</th>\n",
       "      <th>Time</th>\n",
       "      <th>Pred(ft)</th>\n",
       "      <th>Pred(cm)</th>\n",
       "      <th>High/Low</th>\n",
       "    </tr>\n",
       "  </thead>\n",
       "  <tbody>\n",
       "  </tbody>\n",
       "</table>\n",
       "</div>"
      ],
      "text/plain": [
       "Empty DataFrame\n",
       "Columns: [Date, Day, Time, Pred(ft), Pred(cm), High/Low]\n",
       "Index: []"
      ]
     },
     "execution_count": 1,
     "metadata": {},
     "output_type": "execute_result"
    }
   ],
   "source": [
    "import pandas as pd\n",
    "import datetime as dt\n",
    "tides = pd.read_csv('wpb-tides-2017.txt',\n",
    "                    sep='\\t',\n",
    "                    skiprows=14,\n",
    "                    header=None,\n",
    "                    usecols=[0,1,2,3,5,7],\n",
    "                    names=['Date', 'Day', 'Time', 'Pred(ft)', 'Pred(cm)', 'High/Low'],\n",
    "                    parse_dates=['Date','Time'])\n",
    "tides[(tides['High/Low'] == 'H') & \n",
    "      ((tides['Day'] == 'Sat') | (tides['Day'] == 'Sun')) &\n",
    "      (tides['Time'] > dt.datetime.strptime(\"10:00 AM\", \"%I:%M %p\")) &\n",
    "      (tides['Time'] < dt.datetime.strptime(\"11:00 AM\", \"%I:%M %p\"))]"
   ]
  },
  {
   "cell_type": "code",
   "execution_count": null,
   "metadata": {
    "collapsed": true
   },
   "outputs": [],
   "source": []
  }
 ],
 "metadata": {
  "kernelspec": {
   "display_name": "Python 3",
   "language": "python",
   "name": "python3"
  },
  "language_info": {
   "codemirror_mode": {
    "name": "ipython",
    "version": 3
   },
   "file_extension": ".py",
   "mimetype": "text/x-python",
   "name": "python",
   "nbconvert_exporter": "python",
   "pygments_lexer": "ipython3",
   "version": "3.6.1"
  }
 },
 "nbformat": 4,
 "nbformat_minor": 2
}
